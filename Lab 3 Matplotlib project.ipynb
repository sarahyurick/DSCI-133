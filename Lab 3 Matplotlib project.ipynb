{
 "cells": [
  {
   "cell_type": "code",
   "execution_count": 1,
   "metadata": {
    "collapsed": true
   },
   "outputs": [],
   "source": [
    "import numpy as np\n",
    "from matplotlib import pyplot as plt\n",
    "import scipy as sp\n",
    "import pandas as pd"
   ]
  },
  {
   "cell_type": "markdown",
   "metadata": {},
   "source": [
    "**1.** Use ``matplotlib.pyplot.plot`` to produce a plot of the functions \n",
    "$$ f(x) =e^{−x/20} cos(πx)$$\n",
    "and \n",
    "$$ g(x) = x^2 e^{−x/3}$$\n",
    "over the interval [-1, 10]. \n",
    "Include labels for the x- and y-axes, and a legend explaining which line is which plot."
   ]
  },
  {
   "cell_type": "code",
   "execution_count": null,
   "metadata": {
    "collapsed": true
   },
   "outputs": [],
   "source": []
  },
  {
   "cell_type": "markdown",
   "metadata": {},
   "source": [
    "** 2. ** The shape of a limacon can be defined parametrically as\n",
    "$$\n",
    "r = r_0 + cos θ\n",
    "$$\n",
    "$$\n",
    "x = r cos θ\n",
    "$$\n",
    "$$\n",
    "y = r sin θ\n",
    "$$\n",
    "When $r_0 = 1$, this curve is called a cardioid. Use this definition to plot the shape of a lima¸con for $r_0 = 0.5$, $r_0 = 1.0$, and $r_0 = 1.5$. Put these three plots in three subgraphs (with 2*2 layout), give them titles ( $r_0 = 0.5$, $r_0 = 1.0$, and $r_0 = 1.5$), adjust the spaces between subgraphs to make sure the texts don't overlap with each other."
   ]
  },
  {
   "cell_type": "code",
   "execution_count": null,
   "metadata": {
    "collapsed": true
   },
   "outputs": [],
   "source": []
  },
  {
   "cell_type": "markdown",
   "metadata": {},
   "source": [
    "Draw another graph with those three limacon in one **polar** coordinate system. "
   ]
  },
  {
   "cell_type": "code",
   "execution_count": null,
   "metadata": {
    "collapsed": true
   },
   "outputs": [],
   "source": []
  },
  {
   "cell_type": "markdown",
   "metadata": {},
   "source": [
    "**3.** Given the following dataset:"
   ]
  },
  {
   "cell_type": "code",
   "execution_count": null,
   "metadata": {
    "collapsed": true
   },
   "outputs": [],
   "source": [
    "titanic = pd.read_csv(\"titanic.csv\")\n",
    "\n",
    "titanic.head()"
   ]
  },
  {
   "cell_type": "markdown",
   "metadata": {},
   "source": [
    "Use the ``plt.pie`` method to make a pie chart of the sex proportion of all the passengers, \n",
    "\n",
    "Here's the requirements:\n",
    "\n",
    "* Label each portion of the pie chart(male, female)\n",
    "* Male color: red, female color: yellow\n",
    "* Starting angle at 90 degree\n",
    "* Percentage number listed on the pie chart.\n",
    "* Give it a title \"sex proportion\""
   ]
  },
  {
   "cell_type": "code",
   "execution_count": null,
   "metadata": {
    "collapsed": true
   },
   "outputs": [],
   "source": []
  },
  {
   "cell_type": "markdown",
   "metadata": {},
   "source": [
    "** 4.** Make another pie chart of sex proportion for the survived passengers"
   ]
  },
  {
   "cell_type": "code",
   "execution_count": null,
   "metadata": {
    "collapsed": true
   },
   "outputs": [],
   "source": []
  },
  {
   "cell_type": "markdown",
   "metadata": {},
   "source": [
    "**5.** Make a histogram of the fares paid, \n",
    "* Use bins from 0 to 600, binsize=10\n",
    "* Give x, y labels, and a title\n",
    "* annotate the median bin with text and arrow, text='median = (number)'"
   ]
  },
  {
   "cell_type": "markdown",
   "metadata": {},
   "source": [
    "**6.** Clean the data by setting the PassengerID as row index, and then make a bar figure that compares the survival rate of different age range(e.g. 0-10 years old, 11-20, 21-30...)."
   ]
  },
  {
   "cell_type": "code",
   "execution_count": null,
   "metadata": {
    "collapsed": true
   },
   "outputs": [],
   "source": []
  }
 ],
 "metadata": {
  "anaconda-cloud": {},
  "kernelspec": {
   "display_name": "Python 3",
   "language": "python",
   "name": "python3"
  },
  "language_info": {
   "codemirror_mode": {
    "name": "ipython",
    "version": 3
   },
   "file_extension": ".py",
   "mimetype": "text/x-python",
   "name": "python",
   "nbconvert_exporter": "python",
   "pygments_lexer": "ipython3",
   "version": "3.6.3"
  }
 },
 "nbformat": 4,
 "nbformat_minor": 1
}
