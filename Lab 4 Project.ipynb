{
 "cells": [
  {
   "cell_type": "markdown",
   "metadata": {},
   "source": [
    "**1.** Redo the problem 4 in HW1 in python (use only the distribution objects, like norm, binom), make sure you print conclusions from two methods( using clssic statistics method and p-value)"
   ]
  },
  {
   "cell_type": "code",
   "execution_count": null,
   "metadata": {},
   "outputs": [],
   "source": []
  },
  {
   "cell_type": "markdown",
   "metadata": {},
   "source": [
    "**2.** Plot the pdf of a t distribution with degree of freedom 30"
   ]
  },
  {
   "cell_type": "code",
   "execution_count": null,
   "metadata": {},
   "outputs": [],
   "source": []
  },
  {
   "cell_type": "markdown",
   "metadata": {},
   "source": [
    "**3.Anomaly detection** Assume we have a datasets, it represents the daily number of clicks of a small website for 3 months. We assume it follows a poisson distribution. We also assume the the data that exceeds the 95% confidence interval of the sample mean is not likely to happen. We consider them as anomalies. Write a function to extract those anomalies: "
   ]
  },
  {
   "cell_type": "code",
   "execution_count": null,
   "metadata": {
    "collapsed": true
   },
   "outputs": [],
   "source": []
  },
  {
   "cell_type": "markdown",
   "metadata": {},
   "source": [
    "The following is a test function to test your detection function. If your function is correct, you should get the following result:\n",
    "``[731, 745, 868, 713, 863, 877, 867, 875, 867, 748, 900, 747, 717]``"
   ]
  },
  {
   "cell_type": "code",
   "execution_count": null,
   "metadata": {},
   "outputs": [],
   "source": [
    "value=[796, 756, 827, 779, 787, 731, 847, 829, 794, 790, 831, 820, 822, 792, 767, 757, 777, 775, 799, 756, 849, 808, 800, 823, 798, 809, 783, 800, 848, 772, 853, 759, 745, 868, 713, 863, 819, 829, 799, 777, 785, 812, 877, 839, 783, 867, 875, 829, 818, 813, 763, 829, 812, 867, 790, 748, 822, 774, 900, 830, 781, 795, 825, 799, 795, 839, 840, 765, 781, 781, 797, 821, 852, 836, 811, 771, 800, 752, 776, 755, 798, 839, 821, 794, 846, 834, 825, 825, 830, 814, 839, 760, 786, 747, 803, 717, 801, 819, 789, 824, 835, 806, 858, 774, 848, 793, 826, 796, 798, 773, 779, 775, 779, 806, 768, 787, 788, 822, 843, 780]\n",
    "anomaly_detection_poisson(value)"
   ]
  }
 ],
 "metadata": {
  "anaconda-cloud": {},
  "kernelspec": {
   "display_name": "Python 3",
   "language": "python",
   "name": "python3"
  },
  "language_info": {
   "codemirror_mode": {
    "name": "ipython",
    "version": 3
   },
   "file_extension": ".py",
   "mimetype": "text/x-python",
   "name": "python",
   "nbconvert_exporter": "python",
   "pygments_lexer": "ipython3",
   "version": "3.6.3"
  }
 },
 "nbformat": 4,
 "nbformat_minor": 1
}
